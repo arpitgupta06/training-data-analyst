{
  "nbformat": 4,
  "nbformat_minor": 0,
  "metadata": {
    "colab": {
      "provenance": [],
      "authorship_tag": "ABX9TyO3DXwItRPXNxMQ53ngrGYC",
      "include_colab_link": true
    },
    "kernelspec": {
      "name": "python3",
      "display_name": "Python 3"
    },
    "language_info": {
      "name": "python"
    }
  },
  "cells": [
    {
      "cell_type": "markdown",
      "metadata": {
        "id": "view-in-github",
        "colab_type": "text"
      },
      "source": [
        "<a href=\"https://colab.research.google.com/github/arpitgupta06/training-data-analyst/blob/master/Practice1_functions.ipynb\" target=\"_parent\"><img src=\"https://colab.research.google.com/assets/colab-badge.svg\" alt=\"Open In Colab\"/></a>"
      ]
    },
    {
      "cell_type": "code",
      "execution_count": 6,
      "metadata": {
        "id": "WX0h-NZ75cDt"
      },
      "outputs": [],
      "source": [
        "def maxi(a,b,c):\n",
        "  if(a>=b) and (a>=c):\n",
        "    largest = a\n",
        "  elif(b>=a) and (b>=c):\n",
        "    largest = b\n",
        "  else:\n",
        "    largest = c\n",
        "  print(\"Maximum number is:\",largest)"
      ]
    },
    {
      "cell_type": "code",
      "source": [
        "maxi(999,1000,100000)"
      ],
      "metadata": {
        "colab": {
          "base_uri": "https://localhost:8080/"
        },
        "id": "7NKPmxf67Fry",
        "outputId": "c622febb-8086-4459-b5f4-c2424fba585d"
      },
      "execution_count": 8,
      "outputs": [
        {
          "output_type": "stream",
          "name": "stdout",
          "text": [
            "Maximum number is: 100000\n"
          ]
        }
      ]
    },
    {
      "cell_type": "code",
      "source": [
        "def sum_no(numbers):\n",
        "  total = 0\n",
        "  for i in numbers:\n",
        "    total += i\n",
        "  return total"
      ],
      "metadata": {
        "id": "-C5A9BF972qt"
      },
      "execution_count": 12,
      "outputs": []
    },
    {
      "cell_type": "code",
      "source": [
        "print(sum_no((5,6,7,8,9,10)))"
      ],
      "metadata": {
        "colab": {
          "base_uri": "https://localhost:8080/"
        },
        "id": "A4UnlwDM86xs",
        "outputId": "a9951058-9587-455c-e208-883549fb5208"
      },
      "execution_count": 14,
      "outputs": [
        {
          "output_type": "stream",
          "name": "stdout",
          "text": [
            "45\n"
          ]
        }
      ]
    },
    {
      "cell_type": "code",
      "source": [
        "def multiply_no(numbers):\n",
        "  total = 1\n",
        "  for i in numbers:\n",
        "    total = total*i\n",
        "  return total"
      ],
      "metadata": {
        "id": "Nb8w5SJD8-9m"
      },
      "execution_count": 15,
      "outputs": []
    },
    {
      "cell_type": "code",
      "source": [
        "multiply_no((3,4,5,6,7))"
      ],
      "metadata": {
        "colab": {
          "base_uri": "https://localhost:8080/"
        },
        "id": "UER6J_nMDDdd",
        "outputId": "7f974d5e-c849-4de2-b186-b913506680d5"
      },
      "execution_count": 16,
      "outputs": [
        {
          "output_type": "execute_result",
          "data": {
            "text/plain": [
              "2520"
            ]
          },
          "metadata": {},
          "execution_count": 16
        }
      ]
    },
    {
      "cell_type": "code",
      "source": [
        "def string_reverse(str1):\n",
        "\n",
        "  rstr = ''\n",
        "  index = len(str1)\n",
        "  while index > 0:\n",
        "    rstr += str1[index - 1]\n",
        "    index = index - 1\n",
        "  return rstr"
      ],
      "metadata": {
        "id": "_26l_r03DJSy"
      },
      "execution_count": 23,
      "outputs": []
    },
    {
      "cell_type": "code",
      "source": [
        "str2 = 'my names is arpit'"
      ],
      "metadata": {
        "id": "8ln_CRKzGgak"
      },
      "execution_count": 18,
      "outputs": []
    },
    {
      "cell_type": "code",
      "source": [
        "index = len(str2)"
      ],
      "metadata": {
        "id": "6EAjH0xxGqU_"
      },
      "execution_count": 20,
      "outputs": []
    },
    {
      "cell_type": "code",
      "source": [
        "str2[index - 1]"
      ],
      "metadata": {
        "colab": {
          "base_uri": "https://localhost:8080/",
          "height": 35
        },
        "id": "AHkN7cAfGszU",
        "outputId": "4958f314-442d-4d1f-e36e-6d198961ecaa"
      },
      "execution_count": 21,
      "outputs": [
        {
          "output_type": "execute_result",
          "data": {
            "text/plain": [
              "'t'"
            ],
            "application/vnd.google.colaboratory.intrinsic+json": {
              "type": "string"
            }
          },
          "metadata": {},
          "execution_count": 21
        }
      ]
    },
    {
      "cell_type": "code",
      "source": [
        "string_reverse(str2)"
      ],
      "metadata": {
        "colab": {
          "base_uri": "https://localhost:8080/",
          "height": 35
        },
        "id": "t0NTP8iSG_7S",
        "outputId": "b9c67731-f7dc-47ec-b473-228a9a2adbc5"
      },
      "execution_count": 24,
      "outputs": [
        {
          "output_type": "execute_result",
          "data": {
            "text/plain": [
              "'tipra si seman ym'"
            ],
            "application/vnd.google.colaboratory.intrinsic+json": {
              "type": "string"
            }
          },
          "metadata": {},
          "execution_count": 24
        }
      ]
    },
    {
      "cell_type": "code",
      "source": [
        "def num_reverse(num):\n",
        "  rnum = 0\n",
        "  index = len(num)\n",
        "  while index > 0:\n",
        "    rnum += num[index - 1]\n",
        "    index = index - 1\n",
        "  return rnum"
      ],
      "metadata": {
        "id": "XT8e_DALHWWk"
      },
      "execution_count": 1,
      "outputs": []
    },
    {
      "cell_type": "code",
      "source": [
        "num_reverse((1,2,3,4))"
      ],
      "metadata": {
        "colab": {
          "base_uri": "https://localhost:8080/"
        },
        "id": "aDWUmBqkhrIL",
        "outputId": "ec3ebedb-5930-4afd-d7a7-388b03654d04"
      },
      "execution_count": 2,
      "outputs": [
        {
          "output_type": "execute_result",
          "data": {
            "text/plain": [
              "10"
            ]
          },
          "metadata": {},
          "execution_count": 2
        }
      ]
    },
    {
      "cell_type": "code",
      "source": [
        "len((1,2,3,4))"
      ],
      "metadata": {
        "colab": {
          "base_uri": "https://localhost:8080/"
        },
        "id": "ZHOD7kOShwwJ",
        "outputId": "22147116-6b46-4e79-b9ed-fd22d41cf419"
      },
      "execution_count": 3,
      "outputs": [
        {
          "output_type": "execute_result",
          "data": {
            "text/plain": [
              "4"
            ]
          },
          "metadata": {},
          "execution_count": 3
        }
      ]
    },
    {
      "cell_type": "code",
      "source": [
        "def test_range(n):\n",
        "  if n in range(1,100):\n",
        "    print(\" %s is in the range\"%str(n))\n",
        "  else:\n",
        "    print(\"the number is outside the range.\")"
      ],
      "metadata": {
        "id": "fycSjV0Mh9DR"
      },
      "execution_count": 4,
      "outputs": []
    },
    {
      "cell_type": "code",
      "source": [
        "test_range(87)"
      ],
      "metadata": {
        "colab": {
          "base_uri": "https://localhost:8080/"
        },
        "id": "FrTSZHyLklr6",
        "outputId": "56c17a82-99de-41cd-d2d0-fa73fffd8795"
      },
      "execution_count": 5,
      "outputs": [
        {
          "output_type": "stream",
          "name": "stdout",
          "text": [
            " 87 is in the range\n"
          ]
        }
      ]
    },
    {
      "cell_type": "code",
      "source": [
        "test_range(110)"
      ],
      "metadata": {
        "colab": {
          "base_uri": "https://localhost:8080/"
        },
        "id": "P5GzDKZakoGB",
        "outputId": "003a1752-fb6e-4b61-84aa-0de1e4526a01"
      },
      "execution_count": 6,
      "outputs": [
        {
          "output_type": "stream",
          "name": "stdout",
          "text": [
            "the number is outside the range.\n"
          ]
        }
      ]
    },
    {
      "cell_type": "code",
      "source": [
        "def mul(num):\n",
        "  for i in range(1,11):\n",
        "    print(\"{a} * {b} = {c}\".format(a = num, b = i, c = num*i))"
      ],
      "metadata": {
        "id": "leQ1bkxfk2mS"
      },
      "execution_count": 7,
      "outputs": []
    },
    {
      "cell_type": "code",
      "source": [
        "mul(9)"
      ],
      "metadata": {
        "colab": {
          "base_uri": "https://localhost:8080/"
        },
        "id": "LE_2FFE3nXYB",
        "outputId": "ab2e2c36-10e7-4100-aac2-cef284912876"
      },
      "execution_count": 8,
      "outputs": [
        {
          "output_type": "stream",
          "name": "stdout",
          "text": [
            "9 * 1 = 9\n",
            "9 * 2 = 18\n",
            "9 * 3 = 27\n",
            "9 * 4 = 36\n",
            "9 * 5 = 45\n",
            "9 * 6 = 54\n",
            "9 * 7 = 63\n",
            "9 * 8 = 72\n",
            "9 * 9 = 81\n",
            "9 * 10 = 90\n"
          ]
        }
      ]
    },
    {
      "cell_type": "code",
      "source": [
        "def prodDigit(num):\n",
        "  temp = num\n",
        "  prod = 1\n",
        "  while temp > 0:\n",
        "    digit = temp % 10\n",
        "    prod *= digit\n",
        "    temp //= 10\n",
        "  return prod"
      ],
      "metadata": {
        "id": "nsKu3nzDnYwZ"
      },
      "execution_count": 9,
      "outputs": []
    },
    {
      "cell_type": "code",
      "source": [
        "54%10"
      ],
      "metadata": {
        "colab": {
          "base_uri": "https://localhost:8080/"
        },
        "id": "Ygs_dDu8qOFb",
        "outputId": "55e3b695-999d-4baa-b8e7-64d57109517f"
      },
      "execution_count": 11,
      "outputs": [
        {
          "output_type": "execute_result",
          "data": {
            "text/plain": [
              "4"
            ]
          },
          "metadata": {},
          "execution_count": 11
        }
      ]
    },
    {
      "cell_type": "code",
      "source": [
        "54//10"
      ],
      "metadata": {
        "colab": {
          "base_uri": "https://localhost:8080/"
        },
        "id": "Z-QVDGTdqQoh",
        "outputId": "f0adcb69-d978-40fa-e219-2a4827cf8c30"
      },
      "execution_count": 12,
      "outputs": [
        {
          "output_type": "execute_result",
          "data": {
            "text/plain": [
              "5"
            ]
          },
          "metadata": {},
          "execution_count": 12
        }
      ]
    },
    {
      "cell_type": "code",
      "source": [
        "prodDigit(67)"
      ],
      "metadata": {
        "colab": {
          "base_uri": "https://localhost:8080/"
        },
        "id": "CFPZqt2mrgxu",
        "outputId": "9875843d-1822-4eb7-8f3f-df52a2ab9048"
      },
      "execution_count": 13,
      "outputs": [
        {
          "output_type": "execute_result",
          "data": {
            "text/plain": [
              "42"
            ]
          },
          "metadata": {},
          "execution_count": 13
        }
      ]
    },
    {
      "cell_type": "code",
      "source": [],
      "metadata": {
        "id": "064iqlF4rzwL"
      },
      "execution_count": null,
      "outputs": []
    }
  ]
}